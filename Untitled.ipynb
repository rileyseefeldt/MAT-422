{
  "nbformat": 4,
  "nbformat_minor": 0,
  "metadata": {
    "colab": {
      "provenance": [],
      "authorship_tag": "ABX9TyMqgcPVfe7Or3FwO/Jb2IkO",
      "include_colab_link": true
    },
    "kernelspec": {
      "name": "python3",
      "display_name": "Python 3"
    },
    "language_info": {
      "name": "python"
    }
  },
  "cells": [
    {
      "cell_type": "markdown",
      "metadata": {
        "id": "view-in-github",
        "colab_type": "text"
      },
      "source": [
        "<a href=\"https://colab.research.google.com/github/rileyseefeldt/MAT-422/blob/main/Untitled.ipynb\" target=\"_parent\"><img src=\"https://colab.research.google.com/assets/colab-badge.svg\" alt=\"Open In Colab\"/></a>"
      ]
    },
    {
      "cell_type": "markdown",
      "source": [
        "#HW 3.2 Continunity and Differentiation"
      ],
      "metadata": {
        "id": "I2PSyy2asWZ4"
      }
    },
    {
      "cell_type": "markdown",
      "source": [
        "##3.2.1 Limits and Continuity"
      ],
      "metadata": {
        "id": "t0mZdqMSse6u"
      }
    },
    {
      "cell_type": "markdown",
      "source": [
        "Key Terms:\n",
        "\n",
        "Limit of a function:\n",
        "\n",
        "Let f: D->R be a real valued function. Then f has a limit L ∈ R if, ∀ ε > 0, ∃ δ > 0 such that whenever ∣x − a ∣<δ, | f (x) − L| < ε.\n",
        "\n",
        "written as:\n",
        "\n",
        "lim\n",
        "x→a f (x) = L.\n",
        "\n",
        "\n",
        "Continuity:\n",
        "\n",
        "Let f: D->R be a real valued function.Then f is considered continuous if: ∀ y ∈ D, ∀ ε > 0, ∃ δ > 0 such that whenever ∣ x − y ∣ < δ, | f(x) − f(y)| < ε.\n",
        "\n",
        "Or:\n",
        "\n",
        "lim\n",
        "x→a f (x) = f (a).\n",
        "\n",
        "Composition of Continuous functions:\n",
        "\n",
        "The composition of two functions f,g (g o f) is continuous at x0 if f is continuous at x0 and g is continuous at f(x0).\n",
        "\n",
        "Extremum:\n",
        "\n",
        "A point where a function reaches a maximum or minimum value.\n",
        "\n",
        "Extreme Value:\n",
        "\n",
        "A point where a function reaches an absolute maximum or minimum value."
      ],
      "metadata": {
        "id": "G_DA-g9ItA-5"
      }
    },
    {
      "cell_type": "code",
      "execution_count": 60,
      "metadata": {
        "colab": {
          "base_uri": "https://localhost:8080/"
        },
        "id": "Um4fWglzsVhV",
        "outputId": "fe73039c-94d8-4578-88de-2232478fdc17"
      },
      "outputs": [
        {
          "output_type": "stream",
          "name": "stdout",
          "text": [
            "Consider the function f: D-R, f = sin(1/x)\n",
            "Function is continuous at x = 1\n",
            "Function is not continuous at x = 0\n",
            "Sin(1/x) is not continuous at x=0 because the left and righthand limits do not exist\n"
          ]
        }
      ],
      "source": [
        "#Example of limits and continuity\n",
        "import numpy as np\n",
        "\n",
        "def f(x):\n",
        "  try:\n",
        "    return np.sin(1/x) #returns value of y for sin(1/x)\n",
        "  except ZeroDivisionError:\n",
        "    print(\"Function Not Defined at x=\", x)#prints error if function is not defined at x\n",
        "    return None\n",
        "\n",
        "def limit(f, a): #calculates limit of f at a\n",
        "  h = 0.00000000001 #choosing an arbitrarily small h\n",
        "  left_limit = f(a - h)#evaluates limit approaching from left\n",
        "  right_limit= f(a + h)#evaluates limit approaching from right\n",
        "  return left_limit, right_limit\n",
        "\n",
        "def continuous(f, a): #determines continuity of f at a\n",
        "  left_limit,right_limit = limit(f,a)\n",
        "  if left_limit is None or right_limit is None: #if f is undefined at the limit returns false\n",
        "    return False\n",
        "  if(np.isclose(left_limit,right_limit)):\n",
        "    #checking if left and right limits are arbitrarily close\n",
        "    return np.isclose(left_limit, f(a))\n",
        "    #checking if limit and function value are arbirarily close\n",
        "    #returns true if limx->a = f(a)\n",
        "  return False\n",
        "\n",
        "def tryContinuity(f,a):\n",
        "  if(continuous(f,a)):\n",
        "    print(\"Function is continuous at x =\", a)\n",
        "  else:\n",
        "    print(\"Function is not continuous at x =\", a)\n",
        "\n",
        "print(\"Consider the function f: D-R, f = sin(1/x)\")\n",
        "tryContinuity(f,1)\n",
        "tryContinuity(f,0)\n",
        "print(\"Sin(1/x) is not continuous at x=0 because the left and righthand limits do not exist\")\n"
      ]
    },
    {
      "cell_type": "markdown",
      "source": [
        "##3.2.2 Derivatives"
      ],
      "metadata": {
        "id": "HRFHN6PG63e_"
      }
    },
    {
      "cell_type": "markdown",
      "source": [
        "key terms\n",
        "\n",
        "Derivative: Let f: D -> R where D ⊆ R and let x0 ∈ D, then the derivative f'(x0) equals:\n",
        "\n",
        "f'(x) =  lim h→0 (f(x0 + h) − f(x0)) / h\n",
        "\n",
        "if the limit exists\n",
        "\n",
        "Interior point:\n",
        "\n",
        "A point a in the domain of function f is considered an inerior point if:\n",
        "\n",
        "a. For δ>0, there exists an open interval I = (a-δ,a+δ) such that I exists in the functions domain.\n",
        "\n",
        "b. the function is derivable at x = a\n",
        "\n",
        "Rolles Theorem:\n",
        "\n",
        "Suppose f: |a,b| -> R is a continuous function and is derivable on (a,b). If f(a)=f(b), then there exists a c∈(a,b), such that f'(c) = 0\n",
        "\n",
        "Mean Value Theorem:\n",
        "\n",
        "Suppose f: |a,b| -> R is a continuous function and is derivable on (a,b). Then there exists a c∈(a,b), such that: f'(c) = (f(b) - f(a))/(b-a)\n",
        "\n",
        "Partial Derivative:\n",
        "\n",
        "Let f : D → R where D ⊆ Rd and let x0 ∈ D be an interior point of D. Then the partial derivative of f at x0 with respect to xi is:\n",
        "\n",
        "∂f(x0)/∂xi = lim h→0 (f(x0 + hei) − f(x0)) / h\n",
        "\n",
        "if the limit exists\n",
        "\n",
        "Chain Rule:\n",
        "\n",
        "Let f : D1 → Rm, where D1 ⊆ Rd , and let g : D2 → Rp, where D2 ⊆ Rm. Assume that f is continuously differentiable at x0, an interior point of D1, and that g is continuously differentiable at f(x0), an interior point of D2. Then\n",
        "\n",
        "Jg◦f(x0) = Jg(f(x0)) Jf(x0)"
      ],
      "metadata": {
        "id": "tHJNEGgv7Qk3"
      }
    },
    {
      "cell_type": "code",
      "source": [
        "#Derivatives example mean value theorem\n",
        "\n",
        "def f(x): #defines function 5x^3 +4x^2 -x\n",
        "  try:\n",
        "    return 5*x**3 + 4*x**2 - x #returns value of y\n",
        "  except ZeroDivisionError:\n",
        "    print(\"Function Not Defined at x=\", x)#prints error if function is not defined at x\n",
        "    return None\n",
        "\n",
        "def dx(f,x): #defines derivative function\n",
        "  h = 0.000000001 #choosing a arbitrarily small h to find limit\n",
        "  try:\n",
        "    return ((f(x+h)-f(x))/h)\n",
        "  except ZeroDivisionError:\n",
        "    print(\"Derivative Not Defined at x=\", x)#prints error if function is not defined at x\n",
        "    return None\n",
        "\n",
        "def continuousOverInterval(f,a,b): #checks for continuity over an interval\n",
        "  values = np.linspace(a,b,1000) #creates 1000 random points between a and b\n",
        "  #although this will only work for relatively small intervals because of the amount of samples\n",
        "  for i in values:\n",
        "    if(continuous(f,i) == False):\n",
        "      #if any of these values are not continuous it returns false\n",
        "      return False\n",
        "  #if all of these are true the function is continuous over the interval\n",
        "  return True\n",
        "\n",
        "def MVT(f,a,b):\n",
        "  if(continuousOverInterval(f,a,b)):#makes sure f is continuous over interval (a,b)\n",
        "    slope = (f(b)- f(a))/(b-a) #mean slope\n",
        "    values = np.linspace(a,b,1000)#creates 1000 random points between a and b\n",
        "    for i in values:\n",
        "      if(np.isclose(dx(f,i),slope,0.01)): #finding an i in (a,b) that equals mean slope\n",
        "        return i\n",
        "  else:\n",
        "    print(\"Function not continuous cannot use MVT\")\n",
        "    return None\n",
        "\n",
        "print(\"Consider the funciton f(x) = 5x^3 +4x^2 -x on the interval (0,6)\")\n",
        "print(\"The value  c∈(a,b), such that f'(c) equals the mean slope is x=\" , MVT(f,0,6))"
      ],
      "metadata": {
        "colab": {
          "base_uri": "https://localhost:8080/"
        },
        "id": "CO4AETFYsXAe",
        "outputId": "868a36c3-eef4-4b1f-d8d8-ca5d1ac3f1f7"
      },
      "execution_count": 61,
      "outputs": [
        {
          "output_type": "stream",
          "name": "stdout",
          "text": [
            "Consider the funciton f(x) = 5x^3 +4x^2 -x on the interval (0,6)\n",
            "The value  c∈(a,b), such that f'(c) equals the mean slope is x= 3.4174174174174174\n"
          ]
        }
      ]
    },
    {
      "cell_type": "markdown",
      "source": [
        "##3.2.3 Taylor’s Theorem"
      ],
      "metadata": {
        "id": "RA_PjwUEJZCC"
      }
    },
    {
      "cell_type": "markdown",
      "source": [
        "Definition:\n",
        "\n",
        "Let f : D → R where D ⊆ R. Suppose f has a m times continuous derivative on [a, b]. Then\n",
        "\n",
        "![image.png](data:image/png;base64,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)\n",
        "\n",
        "\n",
        "This theory provides a way to approximate a function as a polynomial, which is easier to work with than the original function  "
      ],
      "metadata": {
        "id": "MLBsyglfJixr"
      }
    },
    {
      "cell_type": "code",
      "source": [
        "#Taylor's Theorem Example\n",
        "import matplotlib.pyplot as plt\n",
        "\n",
        "def f(x): #using f(x) = e^x because it's simple to take multiple derivatives of the function\n",
        "  try:\n",
        "    return np.exp(x) #returns value of y\n",
        "  except ZeroDivisionError:\n",
        "    print(\"Function Not Defined at x=\", x)#prints error if function is not defined at x\n",
        "    return None\n",
        "\n",
        "def taylor(x,n):#calculate taylor function for x values up to n terms\n",
        "  #note: this will only work for f(x) = e^x because f'(x) = e^x\n",
        "  amount = 0\n",
        "  for i in range(n):\n",
        "    amount += (x**i)/np.math.factorial(i)#calculates each term in the taylor series of e^x\n",
        "  return amount\n",
        "\n",
        "def taylorApprox(values,n):\n",
        "  tSeries = np.zeros(len(values)) #creating empty array which will hold the approximation\n",
        "  for i in range(len(values)):\n",
        "    tSeries[i] = taylor(values[i],n) #adding taylor approximation values into array\n",
        "  return tSeries\n",
        "\n",
        "values = np.linspace(0,5,100)\n",
        "fValues = f(values)\n",
        "approximation1 = taylorApprox(values,3)#Taylor approximation with 3, 5, and 10 terms\n",
        "approximation2 = taylorApprox(values,5)\n",
        "approximation3 = taylorApprox(values,10)\n",
        "\n",
        "print(\"Consider the function f(x) = e^x. The following are taylor approximations of the function:\")\n",
        "\n",
        "#plotting result data. dotted lines are approximations solid is the actual values\n",
        "plt.plot(values, fValues, label=\"actual values\", color='black', linewidth=2)\n",
        "plt.plot(values, approximation1, label=\"3 term approximation\", linestyle='--', color='red')\n",
        "plt.plot(values, approximation2, label=\"5 term approximation\", linestyle='--', color='green')\n",
        "plt.plot(values, approximation3, label=\"10 term approximation\", linestyle='--', color='blue')\n",
        "\n",
        "\n",
        "plt.xlabel('x')\n",
        "plt.ylabel('$f(x)$')\n",
        "plt.legend()\n",
        "\n",
        "\n",
        "plt.grid(True)\n",
        "plt.show()\n"
      ],
      "metadata": {
        "colab": {
          "base_uri": "https://localhost:8080/",
          "height": 501
        },
        "id": "XG4mrWwCK7_5",
        "outputId": "b03ef4b7-379b-4486-b6b1-3780d2bf07ec"
      },
      "execution_count": 62,
      "outputs": [
        {
          "output_type": "stream",
          "name": "stdout",
          "text": [
            "Consider the function f(x) = e^x. The following are taylor approximations of the function:\n"
          ]
        },
        {
          "output_type": "stream",
          "name": "stderr",
          "text": [
            "<ipython-input-62-30b76ee54e50>:15: DeprecationWarning: `np.math` is a deprecated alias for the standard library `math` module (Deprecated Numpy 1.25). Replace usages of `np.math` with `math`\n",
            "  amount += (x**i)/np.math.factorial(i)#calculates each term in the taylor series of e^x\n"
          ]
        },
        {
          "output_type": "display_data",
          "data": {
            "text/plain": [
              "<Figure size 640x480 with 1 Axes>"
            ],
            "image/png": "[encoded data removed]"
          },
          "metadata": {}
        }
      ]
    },
    {
      "cell_type": "markdown",
      "source": [
        "At the start of the function, all of the approximations are accurate. However, as the x value increases they start to become less accurate. The lower term approximations are less accurate than the higher ones"
      ],
      "metadata": {
        "id": "OOKGoEhZSFSb"
      }
    }
  ]
}