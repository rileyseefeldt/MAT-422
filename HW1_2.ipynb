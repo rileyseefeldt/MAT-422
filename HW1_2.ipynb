{
  "nbformat": 4,
  "nbformat_minor": 0,
  "metadata": {
    "colab": {
      "provenance": [],
      "authorship_tag": "ABX9TyP4LArSxvAlJnNOgb4kXaJF",
      "include_colab_link": true
    },
    "kernelspec": {
      "name": "python3",
      "display_name": "Python 3"
    },
    "language_info": {
      "name": "python"
    }
  },
  "cells": [
    {
      "cell_type": "markdown",
      "metadata": {
        "id": "view-in-github",
        "colab_type": "text"
      },
      "source": [
        "<a href=\"https://colab.research.google.com/github/rileyseefeldt/MAT-422/blob/main/HW1_2.ipynb\" target=\"_parent\"><img src=\"https://colab.research.google.com/assets/colab-badge.svg\" alt=\"Open In Colab\"/></a>"
      ]
    },
    {
      "cell_type": "markdown",
      "source": [
        "# Chapter 1.2 Elements of Linear Algebra"
      ],
      "metadata": {
        "id": "VTlbOiyfBG7n"
      }
    },
    {
      "cell_type": "markdown",
      "source": [
        "## 1.2.1 Linear Spaces"
      ],
      "metadata": {
        "id": "e1V2xtdnBOSy"
      }
    },
    {
      "cell_type": "code",
      "source": [
        "import numpy as np\n",
        "import sympy as sp"
      ],
      "metadata": {
        "id": "lCPMkswKLrQq"
      },
      "execution_count": 7,
      "outputs": []
    },
    {
      "cell_type": "markdown",
      "source": [
        "Key Concepts:\n",
        "\n",
        "Linear Combination - The sum of multiple vectors which have been multiplied by a scalar.\n"
      ],
      "metadata": {
        "id": "l1WsN26DBlfw"
      }
    },
    {
      "cell_type": "code",
      "source": [
        "#Example of Linear Combination\n",
        "a1 = np.array([1,5,9])\n",
        "a2 = np.array([1,3,-2])\n",
        "a3 = np.array([-3,-5,28])\n",
        "\n",
        "b1 = 2\n",
        "b2 = 3\n",
        "\n",
        "linearCombinationAB = (b1 * a1) + (b2 * a2)\n",
        "print(\"Linear combination solution:\")\n",
        "print(linearCombinationAB)"
      ],
      "metadata": {
        "colab": {
          "base_uri": "https://localhost:8080/"
        },
        "id": "ZzCpBTJVCAlO",
        "outputId": "a888742b-6f66-46bc-cdce-869fd0d5049e"
      },
      "execution_count": 8,
      "outputs": [
        {
          "output_type": "stream",
          "name": "stdout",
          "text": [
            "Linear combination solution:\n",
            "[ 5 19 12]\n"
          ]
        }
      ]
    },
    {
      "cell_type": "markdown",
      "source": [
        "\n",
        "Linear Subspace - A subset of a vector space that conforms to the axioms of scalar multiplication and vector additon.\n",
        "\n",
        "Span - The vector space which represents all the linear combinations of vectors in a set.\n",
        "\n",
        "Column Space - The span of the columns in a matrix.\n",
        "\n",
        "Linear independece - If a set of vectors cannot be written as a linear combination of each other using non-zero constants such that in no instance:\n",
        "\n",
        "(b1 * a1) + (b2 *a2) + (b3 + a3) = →0"
      ],
      "metadata": {
        "id": "5gpM-Ak7Oq-f"
      }
    },
    {
      "cell_type": "markdown",
      "source": [
        "\n",
        "\n",
        "Linear dependence - If a set of vectors can be written as a linear combination of each other using non-zero constants such that:\n",
        "\n",
        "(b1 * a1) + (b2 *a2) + (b3 + a3) = →0"
      ],
      "metadata": {
        "id": "uxkc-tnERQGY"
      }
    },
    {
      "cell_type": "code",
      "source": [
        "\n",
        "#example of linear dependence\n",
        "M = np.matrix([[1,1,-3], [5,3,-5], [9,-2,28]])\n",
        "print(\"Matrix of vector space a1, a2, and a3:\")\n",
        "print(M)\n",
        "\n",
        "print(\"Solution matrix:\")\n",
        "M_rref = sp.Matrix(M).rref()\n",
        "#rref function simplifies matrix so that the first entry of each row begins with 1 and is the only nonzero term in the column\n",
        "print(M_rref)"
      ],
      "metadata": {
        "colab": {
          "base_uri": "https://localhost:8080/"
        },
        "id": "YOOyPXl9SZ9t",
        "outputId": "026c45e5-bc7c-41b2-b3d9-84b162779458"
      },
      "execution_count": 9,
      "outputs": [
        {
          "output_type": "stream",
          "name": "stdout",
          "text": [
            "Matrix of vector space a1, a2, and a3:\n",
            "[[ 1  1 -3]\n",
            " [ 5  3 -5]\n",
            " [ 9 -2 28]]\n",
            "Solution matrix:\n",
            "(Matrix([\n",
            "[1, 0,  2],\n",
            "[0, 1, -5],\n",
            "[0, 0,  0]]), (0, 1))\n"
          ]
        }
      ]
    },
    {
      "cell_type": "markdown",
      "source": [
        "The solution matrix indicates that the set of vectors a1, a2, and a3 is linearly dependent because the matrix has a nonzero solution. Specifically wheen b1 = -2, b2 = 5, and b3 = 1. This can be shown by multiplying vectors a1, a2, and a3 by these respective values, which equals the zero vector:"
      ],
      "metadata": {
        "id": "4HpRVtLSkdMi"
      }
    },
    {
      "cell_type": "code",
      "source": [
        "b1 = -2\n",
        "b2 = 5\n",
        "b3 = 1\n",
        "result = (b1 * a1) + (b2 * a2) + (b3 * a3)\n",
        "print(\"Solution of linear combination:\")\n",
        "print(result)"
      ],
      "metadata": {
        "colab": {
          "base_uri": "https://localhost:8080/"
        },
        "id": "NVBsXfWXoXGy",
        "outputId": "ed1a6ae0-c57d-48ad-a245-5cc09da1ed08"
      },
      "execution_count": 10,
      "outputs": [
        {
          "output_type": "stream",
          "name": "stdout",
          "text": [
            "Solution of linear combination:\n",
            "[0 0 0]\n"
          ]
        }
      ]
    },
    {
      "cell_type": "markdown",
      "source": [
        "##1.2.2 Orthogonality"
      ],
      "metadata": {
        "id": "PQQwWqyZuB09"
      }
    },
    {
      "cell_type": "markdown",
      "source": [
        "Orthogonal Vectors - Two vectors are considered orthogonal if they are perpendicular with eachother. Orthoginal Vectors must have a dot product of zero."
      ],
      "metadata": {
        "id": "ig1X0NjrvAHv"
      }
    },
    {
      "cell_type": "code",
      "source": [
        "#example of orthogonal vectors\n",
        "a1 = np.array([3,1,1])\n",
        "a2 = np.array([-1,2,1])\n",
        "\n",
        "dot_Prod = a1.dot(a2)\n",
        "print(\"dot product:\")\n",
        "print(dot_Prod)"
      ],
      "metadata": {
        "colab": {
          "base_uri": "https://localhost:8080/"
        },
        "id": "Yv3jT80xv57l",
        "outputId": "16526d30-2b72-4641-ab80-e60a792165e9"
      },
      "execution_count": 11,
      "outputs": [
        {
          "output_type": "stream",
          "name": "stdout",
          "text": [
            "dot product:\n",
            "0\n"
          ]
        }
      ]
    },
    {
      "cell_type": "markdown",
      "source": [
        "Orthogonal Basis - A vector space for which all vectors are mutually orthogonal indicates the set has an orthogonal basis. The dot product of any two vectors in the set must equal zero."
      ],
      "metadata": {
        "id": "8b8xBnXyygDH"
      }
    },
    {
      "cell_type": "code",
      "source": [
        "#example of vector space with an orthogonal basis\n",
        "a3 = np.array([-1/2, -2, 7/2])\n",
        "\n",
        "dot_Prod2 = a1.dot(a3)\n",
        "dot_Prod3 = a2.dot(a3)\n",
        "\n",
        "print(\"dot product of ab, ac, and bc:\")\n",
        "print(dot_Prod)\n",
        "print(dot_Prod2)\n",
        "print(dot_Prod3)"
      ],
      "metadata": {
        "colab": {
          "base_uri": "https://localhost:8080/"
        },
        "id": "yLRzRdUrxX87",
        "outputId": "4edeb4c7-a8fe-4ea5-ad3d-3e0905ccb8ea"
      },
      "execution_count": 12,
      "outputs": [
        {
          "output_type": "stream",
          "name": "stdout",
          "text": [
            "dot product of ab, ac, and bc:\n",
            "0\n",
            "0.0\n",
            "0.0\n"
          ]
        }
      ]
    },
    {
      "cell_type": "markdown",
      "source": [
        "A better way to prove a vector space (matrix) has an orthogonal basis is to perform matrix multiplication of the transpose of the matrix onto the vector space (denoted A_T * A). If the result equals a diagonal matrix, the set has an orthogonal basis."
      ],
      "metadata": {
        "id": "49a7BeTv0eiH"
      }
    },
    {
      "cell_type": "code",
      "source": [
        "M = np.matrix([a1, a2, a3])\n",
        "M = M.T\n",
        "print(\"matrix of vector space:\")\n",
        "print(M)\n",
        "\n",
        "M_T = M.T\n",
        "print(\"transposition of vector space:\")\n",
        "print(M_T)\n",
        "#The transposition matrix is created by switching the rows and columns of the original matrix\n",
        "\n",
        "result = M_T * M\n",
        "print(\"resulting matrix:\")\n",
        "print(result)"
      ],
      "metadata": {
        "colab": {
          "base_uri": "https://localhost:8080/"
        },
        "id": "2AJHCd2My3C1",
        "outputId": "be1b23cd-3823-433c-bd75-a89fc17785bd"
      },
      "execution_count": 13,
      "outputs": [
        {
          "output_type": "stream",
          "name": "stdout",
          "text": [
            "matrix of vector space:\n",
            "[[ 3.  -1.  -0.5]\n",
            " [ 1.   2.  -2. ]\n",
            " [ 1.   1.   3.5]]\n",
            "transposition of vector space:\n",
            "[[ 3.   1.   1. ]\n",
            " [-1.   2.   1. ]\n",
            " [-0.5 -2.   3.5]]\n",
            "resulting matrix:\n",
            "[[11.   0.   0. ]\n",
            " [ 0.   6.   0. ]\n",
            " [ 0.   0.  16.5]]\n"
          ]
        }
      ]
    },
    {
      "cell_type": "markdown",
      "source": [
        "Best Approximation Theorem - States that the closest approximation from a vector to elements in a subspace is the orthogonal projection of the vector onto the subspace.\n",
        "\n",
        "Orthogonal Projection: given vectors a and b\n",
        "\n",
        "Pro$j_b$(a) = ((a ⋅ b)/(b ⋅ b))b"
      ],
      "metadata": {
        "id": "HyXKU9moOSpX"
      }
    },
    {
      "cell_type": "code",
      "source": [
        "#example of orthogonal projection of b onto a\n",
        "a = np.array([4,5,6])\n",
        "b = np.array([1,6,3])\n",
        "#computing the dot product of a onto b and b onto itself\n",
        "adotb = a.dot(b)\n",
        "bdotb = b.dot(b)\n",
        "\n",
        "result = (adotb/bdotb)*b\n",
        "print(\"b projected onto a:\")\n",
        "print(result)"
      ],
      "metadata": {
        "colab": {
          "base_uri": "https://localhost:8080/"
        },
        "id": "uD1c3kuxTB6D",
        "outputId": "5b8a3d5f-bc65-4f18-fea4-c3338151ca66"
      },
      "execution_count": 14,
      "outputs": [
        {
          "output_type": "stream",
          "name": "stdout",
          "text": [
            "b projected onto a:\n",
            "[1.13043478 6.7826087  3.39130435]\n"
          ]
        }
      ]
    },
    {
      "cell_type": "markdown",
      "source": [
        "##1.2.3. Gram–Schmidt process"
      ],
      "metadata": {
        "id": "KnDCbVFlWiNS"
      }
    },
    {
      "cell_type": "markdown",
      "source": [
        "A process to create an orthogonal basis given a set of linearly independent vectors\n",
        "\n",
        "![grahm.png](data:image/png;base64,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)"
      ],
      "metadata": {
        "id": "hweXStF6Yk5g"
      }
    },
    {
      "cell_type": "code",
      "source": [
        "#Confirming that vectors a1, a2, and a3 are linearly independent\n",
        "a1 = np.array([3,1,1])\n",
        "a2 = np.array([-1,2,1])\n",
        "a3 = np.array([-1/2, -2, 7/2])\n",
        "M = np.matrix([a1,a2,a3])\n",
        "M = M.T\n",
        "print(\"matrix of vector space:\")\n",
        "print(M)\n",
        "M_rref = sp.Matrix(M).rref()\n",
        "print(\"solution matrix:\")\n",
        "print(M_rref)\n",
        "\n"
      ],
      "metadata": {
        "colab": {
          "base_uri": "https://localhost:8080/"
        },
        "id": "SaNZpayyaxmx",
        "outputId": "5ef15b83-3aac-4600-da3a-377a480cabc6"
      },
      "execution_count": 15,
      "outputs": [
        {
          "output_type": "stream",
          "name": "stdout",
          "text": [
            "matrix of vector space:\n",
            "[[ 3.  -1.  -0.5]\n",
            " [ 1.   2.  -2. ]\n",
            " [ 1.   1.   3.5]]\n",
            "solution matrix:\n",
            "(Matrix([\n",
            "[1, 0, 0],\n",
            "[0, 1, 0],\n",
            "[0, 0, 1]]), (0, 1, 2))\n"
          ]
        }
      ]
    },
    {
      "cell_type": "markdown",
      "source": [
        "Because each row only contains one number, the only solution to this matrix occurs when the coefficients b1, b2, and b3 are all equal to zero. Therefore, the set of vectors is linearly indepdendent."
      ],
      "metadata": {
        "id": "URH6evF5bl2M"
      }
    },
    {
      "cell_type": "code",
      "source": [
        "#defining helper methods\n",
        "def proj(b,a): #computes the projection of a vector b onto another vector a\n",
        "  adotb = a.dot(b)\n",
        "  bdotb = b.dot(b)\n",
        "\n",
        "  return (adotb/bdotb)*b\n",
        "\n",
        "def mag(a): #computes the magnitude of vector a\n",
        "  result = 0\n",
        "  for i in range(len(a)):\n",
        "    result = result + pow(a[i],2)\n",
        "\n",
        "  return pow(result,1/2)\n",
        "\n",
        "def gram(a,b,c): #computes the gram-schmidt process on linearly indpendent vectors a, b, and c\n",
        "  #finding the orthogonal components\n",
        "  u1 = a\n",
        "  u2 = b - proj(a,b)\n",
        "  u3 = c - proj(a,c) - proj(b,c)\n",
        "  #normalizing the matrix\n",
        "  e1 = (u1/mag(u1))\n",
        "  e2 = (u2/mag(u2))\n",
        "  e3 = (u3/mag(u3))\n",
        "  M = np.array([e1, e2, e3])\n",
        "  return M.T\n",
        "\n",
        "print(\"Matrix of vector space:\")\n",
        "print(M)\n",
        "print(\"Orthogonal basis matrix\")\n",
        "print(gram(a1,a2,a3))"
      ],
      "metadata": {
        "colab": {
          "base_uri": "https://localhost:8080/"
        },
        "id": "mUYMlX1lbBuY",
        "outputId": "3df1c93f-eb2d-425d-bdd1-cebbc18dd5ba"
      },
      "execution_count": 16,
      "outputs": [
        {
          "output_type": "stream",
          "name": "stdout",
          "text": [
            "Matrix of vector space:\n",
            "[[ 3.  -1.  -0.5]\n",
            " [ 1.   2.  -2. ]\n",
            " [ 1.   1.   3.5]]\n",
            "Orthogonal basis matrix\n",
            "[[ 0.90453403 -0.40824829 -0.12309149]\n",
            " [ 0.30151134  0.81649658 -0.49236596]\n",
            " [ 0.30151134  0.40824829  0.86164044]]\n"
          ]
        }
      ]
    },
    {
      "cell_type": "markdown",
      "source": [
        "##1.2.4. Eigenvalues and eigenvectors"
      ],
      "metadata": {
        "id": "eslo2IqJiElo"
      }
    },
    {
      "cell_type": "markdown",
      "source": [],
      "metadata": {
        "id": "8HqUfQf5-CdZ"
      }
    },
    {
      "cell_type": "markdown",
      "source": [
        "Eigenvalues and Eigenvectors - Ax = λx. Where A is a square matrix and λ is the eigenvalue corresponding to the eigenvector x.\n",
        "\n",
        "Equation for finding eigenvalues on a random 2x2 matrix:\n",
        "![image.png](data:image/png;base64,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)\n",
        "\n"
      ],
      "metadata": {
        "id": "iPX4TgHFiIFk"
      }
    },
    {
      "cell_type": "code",
      "source": [
        "from sympy import *\n",
        "\n",
        "a1 = np.array([5,1,1])\n",
        "a2 = np.array([0,2,1])\n",
        "a3 = np.array([0,1,2])\n",
        "M = np.matrix([a1,a2,a3])\n",
        "M = M.T\n",
        "print(\"Starting Matrix:\")\n",
        "print(M)\n",
        "\n",
        "def find_EV(M): #method to compute eigenvalues\n",
        "  if(M.shape[0] != M.shape[1]): #check to confirm matrix is square\n",
        "    print(\"Matrix is not square\")\n",
        "    return np.empty(0)\n",
        "\n",
        "  eValues = np.linalg.eigvals(M)#computes eigenvalues using numpy method\n",
        "  return eValues\n",
        "print(\"Eigenvalues:\")\n",
        "eVal = find_EV(M)\n",
        "print(eVal)\n",
        "\n",
        "def find_EVEC(M): #method to compute eigenvectors\n",
        "  if(find_EV(M).size > 0): #confirms that the matrix has eigenvectors\n",
        "    eVal = find_EV(M)\n",
        "    M1 = np.copy(M) #creating a copy of M so it can be iterated\n",
        "    for i in range(eVal.size): #iterating through the multiple eigenvalues\n",
        "      for j in range(M1.shape[0]): #iterating as many times as the size of the matrix\n",
        "        M1[j,j] -= eVal[i] #subtracting the eigenvalue from the diagonal\n",
        "      print(\"Eigenvector:\")\n",
        "      M2 = sp.Matrix(M1) #making M1 a sympy variable so sympy functions work\n",
        "      e1 = M2.nullspace() #taking the null space of the Eigenvector matrix\n",
        "      print(e1) #prints eigenvector\n",
        "      M1 = np.copy(M) #resets M1 so it can be iterated again for more eigenvectors\n",
        "\n",
        "find_EVEC(M)\n"
      ],
      "metadata": {
        "colab": {
          "base_uri": "https://localhost:8080/"
        },
        "id": "hzTKxFe14ME-",
        "outputId": "41021fe7-cdc3-4389-b9ea-222a711249f6"
      },
      "execution_count": 73,
      "outputs": [
        {
          "output_type": "stream",
          "name": "stdout",
          "text": [
            "Starting Matrix:\n",
            "[[5 0 0]\n",
            " [1 2 1]\n",
            " [1 1 2]]\n",
            "Eigenvalues:\n",
            "[3. 1. 5.]\n",
            "Eigenvector:\n",
            "[Matrix([\n",
            "[0],\n",
            "[1],\n",
            "[1]])]\n",
            "Eigenvector:\n",
            "[Matrix([\n",
            "[ 0],\n",
            "[-1],\n",
            "[ 1]])]\n",
            "Eigenvector:\n",
            "[Matrix([\n",
            "[2],\n",
            "[1],\n",
            "[1]])]\n"
          ]
        }
      ]
    },
    {
      "cell_type": "code",
      "source": [],
      "metadata": {
        "id": "U8weXxK05fcv"
      },
      "execution_count": 22,
      "outputs": []
    }
  ]
}