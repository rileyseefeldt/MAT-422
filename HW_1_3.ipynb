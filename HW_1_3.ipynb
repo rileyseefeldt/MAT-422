{
  "nbformat": 4,
  "nbformat_minor": 0,
  "metadata": {
    "colab": {
      "provenance": [],
      "authorship_tag": "ABX9TyOP2KsNgEPYElkNaTwhV/1c",
      "include_colab_link": true
    },
    "kernelspec": {
      "name": "python3",
      "display_name": "Python 3"
    },
    "language_info": {
      "name": "python"
    }
  },
  "cells": [
    {
      "cell_type": "markdown",
      "metadata": {
        "id": "view-in-github",
        "colab_type": "text"
      },
      "source": [
        "<a href=\"https://colab.research.google.com/github/rileyseefeldt/MAT-422/blob/main/HW_1_3.ipynb\" target=\"_parent\"><img src=\"https://colab.research.google.com/assets/colab-badge.svg\" alt=\"Open In Colab\"/></a>"
      ]
    },
    {
      "cell_type": "markdown",
      "source": [
        "#HW 1.3 Linear Regression"
      ],
      "metadata": {
        "id": "CKtia-n7MtZw"
      }
    },
    {
      "cell_type": "markdown",
      "source": [
        "#1.3.1 QR Decomposition:"
      ],
      "metadata": {
        "id": "y_k6Q01aM_jR"
      }
    },
    {
      "cell_type": "markdown",
      "source": [
        "A process that transforms a matrix A into the product of an orthogonal matrix Q and a triangular matrix R (A = QR). This is useful with creating a line of best fit through data points (known as the \"least squares problem\")."
      ],
      "metadata": {
        "id": "RxRXGdOXNY62"
      }
    },
    {
      "cell_type": "code",
      "execution_count": 125,
      "metadata": {
        "colab": {
          "base_uri": "https://localhost:8080/"
        },
        "id": "7X6jaeilMsjf",
        "outputId": "900acb1a-9770-4ce5-f198-a8ba02cf8bfc"
      },
      "outputs": [
        {
          "output_type": "stream",
          "name": "stdout",
          "text": [
            "matrix of vector space:\n",
            "[[ 3.  -1.  -0.5]\n",
            " [ 1.   2.  -2. ]\n",
            " [ 1.   1.   3.5]]\n",
            "Orthogonal basis matrix\n",
            "[[ 0.90453403 -0.40824829 -0.12309149]\n",
            " [ 0.30151134  0.81649658 -0.49236596]\n",
            " [ 0.30151134  0.40824829  0.86164044]]\n"
          ]
        }
      ],
      "source": [
        "#example of QR Decomposition\n",
        "#The first step in QR decomposition is to find an orthogonal basis via the Gram-Schmidt process. The code below is taken from HW 1.2 where the Gram-Schmidt process was defined.\n",
        "import numpy as np\n",
        "import sympy as sp\n",
        "\n",
        "#Linearly independent vector space:\n",
        "a1 = np.array([3,1,1])\n",
        "a2 = np.array([-1,2,1])\n",
        "a3 = np.array([-1/2, -2, 7/2])\n",
        "M = np.matrix([a1,a2,a3])\n",
        "M = M.T\n",
        "print(\"matrix of vector space:\")\n",
        "print(M)\n",
        "\n",
        "#defining helper methods\n",
        "def proj(b,a): #computes the projection of a vector b onto another vector a\n",
        "  adotb = np.dot(a,b)\n",
        "  adota = np.dot(a,a)\n",
        "\n",
        "  return (adotb/adota)*a\n",
        "\n",
        "def mag(a): #computes the magnitude of vector a\n",
        "  result = 0\n",
        "  for i in range(len(a)):\n",
        "    result = result + pow(a[i],2)\n",
        "\n",
        "  return pow(result,1/2)\n",
        "\n",
        "def gram(a,b,c): #computes the gram-schmidt process on linearly indpendent vectors a, b, and c\n",
        "  #finding the orthogonal components\n",
        "  u1 = a\n",
        "  u2 = b - proj(b,u1)\n",
        "  u3 = c - proj(c,u1) - proj(c,u2)\n",
        "  #normalizing the matrix\n",
        "  e1 = (u1/mag(u1))\n",
        "  e2 = (u2/mag(u2))\n",
        "  e3 = (u3/mag(u3))\n",
        "  M = np.array([e1, e2, e3])\n",
        "  return M.T\n",
        "\n",
        "print(\"Orthogonal basis matrix\")\n",
        "orth_Basis = gram(a1,a2,a3)\n",
        "print(orth_Basis)\n",
        "#end of reused code"
      ]
    },
    {
      "cell_type": "markdown",
      "source": [
        "In this example, matrix A is represented by the matrix of the vector space and matrix Q is represented by the orthogonal basis of A. In order to find what matrix R is equal to we must simplify the equation:\n",
        "\n",
        "A = QR\n",
        "\n",
        "$Q^T$A = $Q^T$QR\n",
        "\n",
        "R = $Q^T$A"
      ],
      "metadata": {
        "id": "XwAn9z1GREx2"
      }
    },
    {
      "cell_type": "code",
      "source": [
        "#Finding R\n",
        "\n",
        "Q_T = orth_Basis.T #represents the transposition of matrix Q\n",
        "R = Q_T * M #finding triangular matrix\n",
        "R[np.abs(R) < 1e-15] = 0 #sets any numbers under 10^(-15) to zero\n",
        "print(\"Trianglar Matrix R:\")\n",
        "print(R)"
      ],
      "metadata": {
        "colab": {
          "base_uri": "https://localhost:8080/"
        },
        "id": "csV5H-9oP64m",
        "outputId": "98cf5153-62f1-4f41-aed5-1759b0a375d5"
      },
      "execution_count": 126,
      "outputs": [
        {
          "output_type": "stream",
          "name": "stdout",
          "text": [
            "Trianglar Matrix R:\n",
            "[[3.31662479 0.         0.        ]\n",
            " [0.         2.44948974 0.        ]\n",
            " [0.         0.         4.0620192 ]]\n"
          ]
        }
      ]
    },
    {
      "cell_type": "markdown",
      "source": [
        "The Matrix above is considered an upper triangular matrix because all elements under the diagonal are equal to zero. We can check our answer by multiplying Q and R which should be equal to the starting matrix (or very close to it because of python rounding errors)."
      ],
      "metadata": {
        "id": "tFMJD6-qSvad"
      }
    },
    {
      "cell_type": "code",
      "source": [
        "print(orth_Basis*R)"
      ],
      "metadata": {
        "colab": {
          "base_uri": "https://localhost:8080/"
        },
        "id": "7BzNLXv7UAEg",
        "outputId": "296c933f-7b03-4998-c073-b0532f3bdbb5"
      },
      "execution_count": 127,
      "outputs": [
        {
          "output_type": "stream",
          "name": "stdout",
          "text": [
            "[[ 3.  -1.  -0.5]\n",
            " [ 1.   2.  -2. ]\n",
            " [ 1.   1.   3.5]]\n"
          ]
        }
      ]
    },
    {
      "cell_type": "markdown",
      "source": [
        "##1.3.2 Least Squares Problem and 1.3.3. Linear regression"
      ],
      "metadata": {
        "id": "eh6TWMUAUuHc"
      }
    },
    {
      "cell_type": "markdown",
      "source": [
        "Linear regression: A statistical technique which aims to find the relationship between two or more variables using a linear model. An example of linear regression is the least squares method.\n",
        "\n",
        "The least squares problem produces a \"best-fit solution\" to a system of linear equations. It does this by approximating the coefficients of unknown variables using the QR Decomposition.\n",
        "\n",
        "For example, given the four data points on a 2D graph, we can calculate a parabolic line of best fit:\n",
        "\n",
        "(−1,1/2), (1,−1), (2,−1/2), (3,2)."
      ],
      "metadata": {
        "id": "8gHkzj1GaRS9"
      }
    },
    {
      "cell_type": "code",
      "source": [
        "import matplotlib.pyplot as plt #importing graph to plot points\n",
        "x = [-1, 1, 2, 3] #x values of coordinates\n",
        "y = [1/2, -1, -1/2, 2] #cooresponding y values of coordinates\n",
        "plt.axhline(0, color='black',linewidth=0.5) #creating the axis\n",
        "plt.axvline(0, color='black',linewidth=0.5)\n",
        "plt.xlim(-5, 5) #setting bounds on the graph\n",
        "plt.ylim(-3, 3)\n",
        "plt.scatter(x, y)#plotting points as a scatterplot\n"
      ],
      "metadata": {
        "colab": {
          "base_uri": "https://localhost:8080/",
          "height": 452
        },
        "id": "el41YWaIU0ip",
        "outputId": "6aa216e0-f046-4c38-9730-1595c473a820"
      },
      "execution_count": 128,
      "outputs": [
        {
          "output_type": "execute_result",
          "data": {
            "text/plain": [
              "<matplotlib.collections.PathCollection at 0x7858afb74fd0>"
            ]
          },
          "metadata": {},
          "execution_count": 128
        },
        {
          "output_type": "display_data",
          "data": {
            "text/plain": [
              "<Figure size 640x480 with 1 Axes>"
            ],
            "image/png": "[encoded data removed]"
          },
          "metadata": {}
        }
      ]
    },
    {
      "cell_type": "markdown",
      "source": [
        "In order to begin approximating the line of best fit, we must transform the datapoints into vectors a1 a2 and a3 to solve for the coefficients in the characteristic equation:\n",
        "\n",
        "y = b1$x^2$ + b2x + b3c\n",
        "\n",
        "(1/2) = b1($-1^2$) + (-1)x +b3\n",
        "\n",
        "(-1)  = b1($1^2$) + (1)x +b3\n",
        "\n",
        "(-1/2)  = b1($2^2$) + (2)x +b3\n",
        "\n",
        "(2)  = b1($3^2$) + (3)x +b3"
      ],
      "metadata": {
        "id": "Tpg8-0MIfmC4"
      }
    },
    {
      "cell_type": "code",
      "source": [
        "#example of Least Squares Problem\n",
        "#first step is to perform QR decomposition on matrix A\n",
        "a1 = np.array([1,1,4,9]) #represents all numbers multiplied by the b1 coefficient\n",
        "a2 = np.array([-1,1,2,3])#represents all numbers multiplied by the b2 coefficient\n",
        "a3 = np.array([1,1,1,1])#represents all numbers multiplied by the b3 coefficient\n",
        "a4 = np.array([1/2,-1,-1/2,2]) #represnents y values\n",
        "M = np.matrix([a1,a2,a3])\n",
        "M = M.T\n",
        "print(\"matrix of vector space (A):\")\n",
        "print(M)\n",
        "\n",
        "orth_Basis = gram(a1,a2,a3)\n",
        "print(\"Orthogonal Basis Matrix (Q):\")\n",
        "print(orth_Basis)\n",
        "Q_T = orth_Basis.T #represents the transposition of matrix Q\n",
        "R = Q_T * M #finding triangular matrix\n",
        "R[np.abs(R) < 1e-15] = 0 #sets any numbers under 10^(-15) to zero\n",
        "print(\"Trianglar Matrix (R):\")\n",
        "print(R)"
      ],
      "metadata": {
        "colab": {
          "base_uri": "https://localhost:8080/"
        },
        "id": "mf65ygKIfiO-",
        "outputId": "eb4e2320-5682-449f-a9ac-295af76dcd71"
      },
      "execution_count": 129,
      "outputs": [
        {
          "output_type": "stream",
          "name": "stdout",
          "text": [
            "matrix of vector space (A):\n",
            "[[ 1 -1  1]\n",
            " [ 1  1  1]\n",
            " [ 4  2  1]\n",
            " [ 9  3  1]]\n",
            "Orthogonal Basis Matrix (Q):\n",
            "[[ 0.10050378 -0.83521931  0.53218116]\n",
            " [ 0.10050378  0.39891072  0.70957488]\n",
            " [ 0.40201513  0.36151284  0.35478744]\n",
            " [ 0.90453403 -0.11219364 -0.2956562 ]]\n",
            "Trianglar Matrix (R):\n",
            "[[ 9.94987437  3.51763235  1.50755672]\n",
            " [ 0.          1.62057478 -0.1869894 ]\n",
            " [ 0.          0.          1.30088727]]\n"
          ]
        }
      ]
    },
    {
      "cell_type": "markdown",
      "source": [
        "The solution for the least squared problem reads:\n",
        "\n",
        "$A^T$Ax = $A^T$b\n",
        "\n",
        "This can be simplified into:\n",
        "\n",
        "x = $(A^TA)^{-1}$$A^T$b\n",
        "\n",
        "Substituting A = QR into the equation will result in the simplification:\n",
        "\n",
        "x = $R^{-1}$$Q^T$b\n",
        "\n"
      ],
      "metadata": {
        "id": "2UH0umJ1lu2j"
      }
    },
    {
      "cell_type": "code",
      "source": [
        "\n",
        "def leastSquares(Q,R,b): #takes inputs of matrixes Q, R, and b\n",
        "  R_inv = np.linalg.inv(R) #finds the inverse of R\n",
        "  Q_T = Q.T #finds the transpose of Q\n",
        "  return((R_inv*Q_T)*b) #calculates least squares\n",
        "\n",
        "a4 = np.matrix(a4)\n",
        "a4 = a4.T\n",
        "LS = leastSquares(orth_Basis,R,a4)\n",
        "print(\"least squares solution:\")\n",
        "print(LS)\n"
      ],
      "metadata": {
        "colab": {
          "base_uri": "https://localhost:8080/"
        },
        "id": "H-utCrytnzbm",
        "outputId": "e5877338-dea1-45ea-de56-e94a5dad2dee"
      },
      "execution_count": 130,
      "outputs": [
        {
          "output_type": "stream",
          "name": "stdout",
          "text": [
            "least squares solution:\n",
            "[[ 0.60227273]\n",
            " [-0.86136364]\n",
            " [-0.93181818]]\n"
          ]
        }
      ]
    },
    {
      "cell_type": "markdown",
      "source": [
        "The first value of the array coorelates to the coefficient b1, the second b2, and the third b3. We can test the line of best fit given by these values."
      ],
      "metadata": {
        "id": "HnV_fxvZuUsr"
      }
    },
    {
      "cell_type": "code",
      "source": [
        "b1 = LS[0]\n",
        "b2 = LS[1]\n",
        "b3 = LS[2]\n",
        "print(\"y = \" + str(b1) + \"x^2 + \" + str(b2) + \"x + \" + str(b3)) #printing equation of approximation\n",
        "x = [-1, 1, 2, 3] #x values of coordinates\n",
        "y = [1/2, -1, -1/2, 2] #cooresponding y values of coordinates\n",
        "xline = np.linspace(-5,5,100) #generating 100 random x values between x = -5 and x = 5\n",
        "yline = (b1 * pow(xline,2)) +(b2 * xline) + b3 #generating 100 y values based on the equation of best fit line\n",
        "yline = np.ravel(yline) #changes yline so it is a flattened array\n",
        "plt.axhline(0, color='black',linewidth=0.5) #creating the axis\n",
        "plt.axvline(0, color='black',linewidth=0.5)\n",
        "plt.xlim(-5, 5) #setting bounds on the graph\n",
        "plt.ylim(-3, 3)\n",
        "plt.scatter(x, y)#plotting points as a scatterplot\n",
        "plt.plot(xline,yline)"
      ],
      "metadata": {
        "colab": {
          "base_uri": "https://localhost:8080/",
          "height": 470
        },
        "id": "yyVj-khaufqN",
        "outputId": "6f879811-1495-4769-94ca-b80a4a34b8b4"
      },
      "execution_count": 131,
      "outputs": [
        {
          "output_type": "stream",
          "name": "stdout",
          "text": [
            "y = [[0.60227273]]x^2 + [[-0.86136364]]x + [[-0.93181818]]\n"
          ]
        },
        {
          "output_type": "execute_result",
          "data": {
            "text/plain": [
              "[<matplotlib.lines.Line2D at 0x7858afbc6b30>]"
            ]
          },
          "metadata": {},
          "execution_count": 131
        },
        {
          "output_type": "display_data",
          "data": {
            "text/plain": [
              "<Figure size 640x480 with 1 Axes>"
            ],
            "image/png": "[encoded data removed]"
          },
          "metadata": {}
        }
      ]
    },
    {
      "cell_type": "markdown",
      "source": [
        "It appears that the least squares method produced an accurate approximation of the line of best fit for the graph."
      ],
      "metadata": {
        "id": "3pErsHpHxwPT"
      }
    }
  ]
}