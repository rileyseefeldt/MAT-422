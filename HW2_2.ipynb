{
  "nbformat": 4,
  "nbformat_minor": 0,
  "metadata": {
    "colab": {
      "provenance": [],
      "authorship_tag": "ABX9TyMqYukrbMRNeSqgTxVv8TGO",
      "include_colab_link": true
    },
    "kernelspec": {
      "name": "python3",
      "display_name": "Python 3"
    },
    "language_info": {
      "name": "python"
    }
  },
  "cells": [
    {
      "cell_type": "markdown",
      "metadata": {
        "id": "view-in-github",
        "colab_type": "text"
      },
      "source": [
        "<a href=\"https://colab.research.google.com/github/rileyseefeldt/MAT-422/blob/main/HW2_2.ipynb\" target=\"_parent\"><img src=\"https://colab.research.google.com/assets/colab-badge.svg\" alt=\"Open In Colab\"/></a>"
      ]
    },
    {
      "cell_type": "markdown",
      "source": [
        "#HW 2.2 Probability Distribution"
      ],
      "metadata": {
        "id": "SgUIBAJgeoFh"
      }
    },
    {
      "cell_type": "markdown",
      "source": [
        "##2.2.1 Probability Axioms\n"
      ],
      "metadata": {
        "id": "ibCDPimKXNjw"
      }
    },
    {
      "cell_type": "markdown",
      "source": [
        "\n",
        "Key terms:\n",
        "\n",
        "Sample Space: The set of all possibilities in an experiment, denoted S.\n",
        "\n",
        "Events: Any subset of outcomes in the sample space S. Events can be classified as simple, which means it only represents one outcome, and compound, if it represents many.\n",
        "\n",
        "Probability distribution: Given an experiment F(X), the probability distribution is P(X = x). The probability distribution of a sample space will always equal one. A probability distribution must follow each of the following axioms.\n",
        "\n",
        "For all events A:\n",
        "\n",
        "0≤P(A)≤1\n",
        "\n",
        "P(S) = 1\n",
        "\n",
        "P(A) + P(A') = 0\n",
        "\n",
        "For two events A,B:\n",
        "\n",
        "(A ∪ B) = P(A) + P(B) − P(A ∩ B)\n",
        "\n",
        "P(A ∪ B) = P(A) + P(B) (only if A and B are mutually exclusive)\n",
        "\n"
      ],
      "metadata": {
        "id": "34gw4xJyeVsL"
      }
    },
    {
      "cell_type": "code",
      "source": [
        "#Simple probabilty example\n",
        "import numpy as np\n",
        "\n",
        "dice = np.array([1,2,3,4,5,6])\n",
        "\n",
        "def calculateSimpleProbability(sample, event): #calculates probability for events that have an equal chance of occuring\n",
        "    return 1/sample.size\n",
        "\n",
        "print(\"Dice:\")\n",
        "print(dice)\n",
        "roll = np.random.choice(dice)\n",
        "print(\"Random roll:\")\n",
        "print(roll)\n",
        "print(\"Probability of each roll P(A) equals 1/6\")\n",
        "print(calculateSimpleProbability(dice, roll))\n",
        "print(\"Therefore the probability of the sample space P(S) equals 1\")\n",
        "roll2 = np.random.choice(dice)\n",
        "print(\"Random roll 2:\")\n",
        "print(roll2)\n",
        "union = calculateSimpleProbability(dice, roll) + calculateSimpleProbability(dice, roll2)\n",
        "intersection = calculateSimpleProbability(dice, roll) * calculateSimpleProbability(dice, roll2)\n",
        "print(\"Union (A U B) probability\")\n",
        "print(union)\n",
        "print(\"intersection (A n B) probability\")\n",
        "print(intersection)"
      ],
      "metadata": {
        "colab": {
          "base_uri": "https://localhost:8080/"
        },
        "id": "PLq3pMZSXURo",
        "outputId": "9eb2b6b2-3279-4e89-ec19-75df8b49284a"
      },
      "execution_count": 75,
      "outputs": [
        {
          "output_type": "stream",
          "name": "stdout",
          "text": [
            "Dice:\n",
            "[1 2 3 4 5 6]\n",
            "Random roll:\n",
            "3\n",
            "Probability of each roll P(A) equals 1/6\n",
            "0.16666666666666666\n",
            "Therefore the probability of the sample space P(S) equals 1\n",
            "Random roll 2:\n",
            "4\n",
            "Union (A U B) probability\n",
            "0.3333333333333333\n",
            "intersection (A n B) probability\n",
            "0.027777777777777776\n"
          ]
        }
      ]
    },
    {
      "cell_type": "markdown",
      "source": [
        "##2.2.2 Conditional Probability"
      ],
      "metadata": {
        "id": "Q6-28kY9eY9H"
      }
    },
    {
      "cell_type": "markdown",
      "source": [
        "Defined as the probability of an event A happening given that event B already occured.\n",
        "\n",
        "Denoted P(A|B) = P(A ∩ B)/P(B) or P(A|B) = (P(B|A)*P(A))/P(B).\n",
        "\n",
        "If A and B are independent events, then P(A|B) will equal P(A), which means the occurance of B does not affect the occurance of A."
      ],
      "metadata": {
        "id": "UxKWHeayex3v"
      }
    },
    {
      "cell_type": "code",
      "source": [
        "#Independent event exmaple\n",
        "print(\"Roll 1 and Roll 2:\")\n",
        "print(roll, roll2)\n",
        "print(\"P(A|B) for A = roll and B = roll2\")\n",
        "print(intersection/calculateSimpleProbability(dice, roll))\n",
        "print(\"In this case, the conditional probability is equal to P(A) because A and B are independent\")"
      ],
      "metadata": {
        "colab": {
          "base_uri": "https://localhost:8080/"
        },
        "id": "3LZKKXshavlo",
        "outputId": "76ad41f9-6fe0-4428-e816-f81d64c5333d"
      },
      "execution_count": 76,
      "outputs": [
        {
          "output_type": "stream",
          "name": "stdout",
          "text": [
            "Roll 1 and Roll 2:\n",
            "3 4\n",
            "P(A|B) for A = roll and B = roll2\n",
            "0.16666666666666666\n",
            "In this case, the conditional probability is equal to P(A) because A and B are independent\n"
          ]
        }
      ]
    },
    {
      "cell_type": "code",
      "source": [
        "#Dependent event example\n",
        "deck  = np.arange(1,53)\n",
        "draw1 = np.random.choice(deck)\n",
        "print(\"Deck:\", deck)\n",
        "print(\"Draw1 (A):\", draw1)\n",
        "pA = calculateSimpleProbability(deck, draw1)#calculates probability of pulling draw1\n",
        "print(\"P(A):\", pA)\n",
        "deck = np.delete(deck,np.where(deck == draw1)) #removing draw1 from the deck\n",
        "print(\"Removing Draw1 from deck\")\n",
        "draw2 = np.random.choice(deck)\n",
        "print(\"Draw2 (A):\", draw2)\n",
        "condpab = calculateSimpleProbability(deck, draw2) #calculates conditional probability of pulling draw2 given that draw1 was pulled already\n",
        "deck = np.delete(deck,np.where(deck == draw2)) #removing draw1 from the deck\n",
        "print(\"P(B|A):\", condpab)\n",
        "print(\"These events are dependent because the probabilty of P(B|A) is not equivalent to P(A). (pulling a card out of a deck affects the chance that the next is drawn)\")"
      ],
      "metadata": {
        "colab": {
          "base_uri": "https://localhost:8080/"
        },
        "id": "1qNBTmwFfsk8",
        "outputId": "35faf185-cbf9-4341-8333-fe27456b591c"
      },
      "execution_count": 77,
      "outputs": [
        {
          "output_type": "stream",
          "name": "stdout",
          "text": [
            "Deck: [ 1  2  3  4  5  6  7  8  9 10 11 12 13 14 15 16 17 18 19 20 21 22 23 24\n",
            " 25 26 27 28 29 30 31 32 33 34 35 36 37 38 39 40 41 42 43 44 45 46 47 48\n",
            " 49 50 51 52]\n",
            "Draw1 (A): 12\n",
            "P(A): 0.019230769230769232\n",
            "Removing Draw1 from deck\n",
            "Draw2 (A): 17\n",
            "P(B|A): 0.0196078431372549\n",
            "These events are dependent because the probabilty of P(B|A) is not equivalent to P(A). (pulling a card out of a deck affects the chance that the next is drawn)\n"
          ]
        }
      ]
    },
    {
      "cell_type": "markdown",
      "source": [
        "##2.2.3. Discrete random variables"
      ],
      "metadata": {
        "id": "l2NWLBeql29E"
      }
    },
    {
      "cell_type": "markdown",
      "source": [
        "Definition: A variable that have a finite or countably infinite sample set. This means there is a number associated for every possibility in the sample space.\n",
        "\n",
        "Bernoulli Distribution: An equation to find the probabilty of an event that only has two outcomes of sucess and failure. (for discrete random variables)\n",
        "\n",
        "Equation(binomial):f(x) = C(n, x)$p^x$$(1-p)^{n-x}$\n",
        "\n",
        "Poisson Distribution: An equation to find the probability of an event given the mean number of times that event happened over a fixed time interval. (for discrete random variables)\n",
        "\n",
        "Equation: ($e^λ$)($λ^x$)/x!"
      ],
      "metadata": {
        "id": "uBvXVA2wl61Q"
      }
    },
    {
      "cell_type": "code",
      "source": [
        "#Example of discrete random variables\n",
        "import math\n",
        "\n",
        "#Bernoulii binomial Distribution\n",
        "p = 0.6 #probability of success\n",
        "n = 10 #number of elements that can succeed/fail\n",
        "\n",
        "def bpf(p, n, x): #calculates chance of sucess exactly x out of n times where x is the number of sucesses\n",
        "  cnx = (math.factorial(n))/((math.factorial(x))*(math.factorial(n-x)))\n",
        "  return (cnx)*(math.pow(p,x))*math.pow(1-p,n-x)\n",
        "print(\"Binomial distribution of an event with a 60% chance of success that succeeds exactly 4 times out of 10 trials:\")\n",
        "print(bpf(0.6,10,4))\n",
        "\n",
        "def bcf(p, n, x): #calcualtes chance of sucess up to x out of n times\n",
        "  result = 0;\n",
        "  for i in range(x+1):\n",
        "    result += bpf(p,n,i) #adding all the probabilies of all i up to x\n",
        "  return result\n",
        "\n",
        "print(\"Binomial distribution of an event with a 60% chance of success that succeeds up to 4 times out of 10 trials:\")\n",
        "print(bcf(0.6,10,4))"
      ],
      "metadata": {
        "colab": {
          "base_uri": "https://localhost:8080/"
        },
        "id": "LcTGlQH-nw9C",
        "outputId": "75db210a-2aa2-45c1-a5d4-83006a1579e0"
      },
      "execution_count": 90,
      "outputs": [
        {
          "output_type": "stream",
          "name": "stdout",
          "text": [
            "Binomial distribution of an event with a 60% chance of success that succeeds exactly 4 times out of 10 trials:\n",
            "0.11147673600000003\n",
            "Binomial distribution of an event with a 60% chance of success that succeeds up to 4 times out of 10 trials:\n",
            "0.16623861760000005\n"
          ]
        }
      ]
    },
    {
      "cell_type": "markdown",
      "source": [
        "##2.2.4 Continuous  Random Variables"
      ],
      "metadata": {
        "id": "WYCt-WsawmQP"
      }
    },
    {
      "cell_type": "markdown",
      "source": [
        "Definition: An event that does not have any specific number assigned to it; instead it represents an interval of variables\n",
        "\n",
        "The probability distribution of X is the interval of a function f(x) between the values a and b such that a ≤ b.\n",
        "\n",
        "Expected values: The mean value of the probability distribution function. The formula varies for each type of distribution:\n",
        "\n",
        "For example in expoential distributions(λ$e^{-λx}$) the expected value is 1/λ\tand the varience is 1/$λ^2$"
      ],
      "metadata": {
        "id": "9ttroYFfwxgn"
      }
    },
    {
      "cell_type": "code",
      "source": [
        "#continuous random variables example\n",
        "from scipy.integrate import quad\n",
        "\n",
        "\n",
        "\n",
        "print(\"Suppose f(x) = e^(-x) for all x>0\") #exponential distribution\n",
        "def f(x):\n",
        "    return math.pow(math.e,-x)\n",
        "\n",
        "lwrb = 0 #lower bound of zero defined for exponential functions\n",
        "uprb = 1 #upper bound of our choosing\n",
        "print(\"probability of the interval (\",lwrb,uprb, \")\")\n",
        "print(quad(f, lwrb, uprb)) #integrating f(x) from a - b to find the probability of that interval\n",
        "lwrb = 3\n",
        "uprb  =3\n",
        "print(\"probability of the interval (\",lwrb,uprb, \")\")\n",
        "print(quad(f, lwrb, uprb)) #integrating f(x) from a - b to find the probability of that interval\n",
        "print(\"this is zero because continuous random variables don't represent a specific variable, only an interval\")\n",
        "print(\"The expected value is 1 for this example because 1/λ = 1 for λ = 1\")"
      ],
      "metadata": {
        "colab": {
          "base_uri": "https://localhost:8080/"
        },
        "id": "jGu7OChZqjLj",
        "outputId": "1f488ca3-e5a3-4919-b5b1-964d47f1bc5e"
      },
      "execution_count": 101,
      "outputs": [
        {
          "output_type": "stream",
          "name": "stdout",
          "text": [
            "Suppose f(x) = e^(-x) for all x>0\n",
            "probability of the interval ( 0 1 )\n",
            "(0.6321205588285578, 7.017947987503856e-15)\n",
            "probability of the interval ( 3 3 )\n",
            "(0.0, 0.0)\n",
            "this is zero because continuous random variables don't represent a specific variable, only an interval\n",
            "The expected value is 1 for this example because 1/λ = 1 for λ = 1\n"
          ]
        }
      ]
    }
  ]
}